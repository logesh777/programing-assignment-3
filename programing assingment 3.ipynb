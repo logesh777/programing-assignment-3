{
 "cells": [
  {
   "cell_type": "code",
   "execution_count": 4,
   "id": "f1796c18",
   "metadata": {},
   "outputs": [
    {
     "name": "stdout",
     "output_type": "stream",
     "text": [
      "enter the number= -9\n",
      "number is negative\n"
     ]
    }
   ],
   "source": [
    "#phython program to check if a number is positive,negative or 0\n",
    "num = float(input('enter the number= '))\n",
    "if num > 0:\n",
    "    print('number is positive')\n",
    "elif num==0:\n",
    "    print('number is zero')\n",
    "else:\n",
    "    print('number is negative')"
   ]
  },
  {
   "cell_type": "code",
   "execution_count": 8,
   "id": "9a3d53fb",
   "metadata": {},
   "outputs": [
    {
     "name": "stdout",
     "output_type": "stream",
     "text": [
      "enter the number: 7\n",
      "7 is odd\n"
     ]
    }
   ],
   "source": [
    "#phython program to check if a number is odd or even\n",
    "num = int(input('enter the number: '))\n",
    "if (num % 2) ==0:\n",
    "    print('{0} is even'.format(num))\n",
    "else:\n",
    "    print('{0} is odd'.format(num))"
   ]
  },
  {
   "cell_type": "code",
   "execution_count": 11,
   "id": "70b8e03a",
   "metadata": {},
   "outputs": [
    {
     "name": "stdout",
     "output_type": "stream",
     "text": [
      "enter the year: 2022\n",
      "2022 is not a leap year\n"
     ]
    }
   ],
   "source": [
    "#phython program to check leap year\n",
    "year = int(input('enter the year: '))\n",
    "if (year % 400 == 0) and (year % 100 ==0):\n",
    "    print('{0} is a leap year'.format(year))\n",
    "elif (year % 4 == 0) and (year % 100 !=0):\n",
    "    print('{0} is a leap year'.format(year))\n",
    "else:\n",
    "    print('{0} is not a leap year'.format(year))"
   ]
  },
  {
   "cell_type": "code",
   "execution_count": 39,
   "id": "1e6d7ecd",
   "metadata": {},
   "outputs": [
    {
     "name": "stdout",
     "output_type": "stream",
     "text": [
      "enter the number: 1\n",
      "1 is not a prime number\n"
     ]
    }
   ],
   "source": [
    "#phython program to check prime number\n",
    "num = int(input('enter the number: '))\n",
    "if num > 1:\n",
    "    for i in range(2,num):\n",
    "        if (num % i) ==0:\n",
    "            print(num,\"is not a prime number\")\n",
    "            break\n",
    "        else:\n",
    "            print(num,'is a prime number')\n",
    "            break\n",
    "else:\n",
    "    print(num,\"is not a prime number\")\n",
    "      "
   ]
  },
  {
   "cell_type": "code",
   "execution_count": null,
   "id": "e0a119a9",
   "metadata": {},
   "outputs": [],
   "source": []
  },
  {
   "cell_type": "code",
   "execution_count": null,
   "id": "e7aea58f",
   "metadata": {},
   "outputs": [],
   "source": []
  },
  {
   "cell_type": "code",
   "execution_count": null,
   "id": "d71792d8",
   "metadata": {},
   "outputs": [],
   "source": []
  }
 ],
 "metadata": {
  "kernelspec": {
   "display_name": "Python 3 (ipykernel)",
   "language": "python",
   "name": "python3"
  },
  "language_info": {
   "codemirror_mode": {
    "name": "ipython",
    "version": 3
   },
   "file_extension": ".py",
   "mimetype": "text/x-python",
   "name": "python",
   "nbconvert_exporter": "python",
   "pygments_lexer": "ipython3",
   "version": "3.10.1"
  }
 },
 "nbformat": 4,
 "nbformat_minor": 5
}
